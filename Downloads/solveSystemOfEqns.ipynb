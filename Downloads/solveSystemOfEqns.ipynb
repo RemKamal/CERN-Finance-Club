{
 "cells": [
  {
   "cell_type": "code",
   "execution_count": 1,
   "metadata": {
    "collapsed": true
   },
   "outputs": [],
   "source": [
    "import numpy as np\n"
   ]
  },
  {
   "cell_type": "code",
   "execution_count": 43,
   "metadata": {
    "collapsed": false
   },
   "outputs": [
    {
     "data": {
      "text/latex": [
       "\\begin{equation*}\n",
       "N_{SR}^{Data} = N_{signal}^{MC} + N_{TTinSR}^{MC}*SF_{TT} + N_{DYJetsinSR}^{MC}*SF_{DYJets} + O(\\%)\n",
       "\\end{equation*}"
      ],
      "text/plain": [
       "<IPython.core.display.Latex object>"
      ]
     },
     "metadata": {},
     "output_type": "display_data"
    }
   ],
   "source": [
    "%%latex\n",
    "\\begin{equation*}\n",
    "N_{SR}^{Data} = N_{signal}^{MC} + N_{TTinSR}^{MC}*SF_{TT} + N_{DYJetsinSR}^{MC}*SF_{DYJets} + O(\\%)\n",
    "\\end{equation*}"
   ]
  },
  {
   "cell_type": "code",
   "execution_count": 32,
   "metadata": {
    "collapsed": false
   },
   "outputs": [
    {
     "data": {
      "text/latex": [
       "\\begin{equation*}\n",
       "N_{CR_{TT}}^{Data} = 0 + N_{TTinCR_{TT}}^{MC}*SF_{TT} + O(\\%)\n",
       "\\end{equation*}"
      ],
      "text/plain": [
       "<IPython.core.display.Latex object>"
      ]
     },
     "metadata": {},
     "output_type": "display_data"
    }
   ],
   "source": [
    "%%latex\n",
    "\\begin{equation*}\n",
    "N_{CR_{TT}}^{Data} = 0 + N_{TTinCR_{TT}}^{MC}*SF_{TT} + O(\\%)\n",
    "\\end{equation*}"
   ]
  },
  {
   "cell_type": "code",
   "execution_count": 44,
   "metadata": {
    "collapsed": false
   },
   "outputs": [
    {
     "data": {
      "text/latex": [
       "\\begin{equation*}\n",
       "N_{CR_{DYJets}}^{Data} =  \\%(N_{TTinDY_{CR}}^{MC}*SF_{TT}) + N_{DYJetsinCR}^{MC}*SF_{DYJets} + O(\\%)\n",
       "\\end{equation*}"
      ],
      "text/plain": [
       "<IPython.core.display.Latex object>"
      ]
     },
     "metadata": {},
     "output_type": "display_data"
    }
   ],
   "source": [
    "%%latex\n",
    "\\begin{equation*}\n",
    "N_{CR_{DYJets}}^{Data} =  \\%(N_{TTinDY_{CR}}^{MC}*SF_{TT}) + N_{DYJetsinCR}^{MC}*SF_{DYJets} + O(\\%)\n",
    "\\end{equation*}"
   ]
  },
  {
   "cell_type": "code",
   "execution_count": 45,
   "metadata": {
    "collapsed": true
   },
   "outputs": [],
   "source": [
    "#example: signal + TT + DY = N_of_events in data\n",
    "\n",
    "# SR=low signal, DY and TT are 50/50: 0.1x + 10y +10z = 10\n",
    "# CR_TT=no signal, no DY, just TT: 0x + 9y+ 0z = 5\n",
    "#CR_DY=no signal, mostly DY, a bit of TT: 0x + 1y + 9z = 5\n",
    "\n",
    "# A * {x,y,z} = b"
   ]
  },
  {
   "cell_type": "code",
   "execution_count": 67,
   "metadata": {
    "collapsed": false
   },
   "outputs": [
    {
     "data": {
      "text/latex": [
       "\\begin{equation*}\n",
       "\\begin{vmatrix}\n",
       "\\mathbf{i_{1}} & \\mathbf{j_{1}} & \\mathbf{k_{1}} \\\\\n",
       "\\mathbf{i_{2}} & \\mathbf{j_{2}} & \\mathbf{k_{2}} \\\\\n",
       "\\mathbf{i_{3}} & \\mathbf{j_{3}} & \\mathbf{k_{3}} \\\\\n",
       "\\end{vmatrix} * \n",
       "\\begin{vmatrix}\n",
       "\\mathbf{x_{1}}  \\\\\n",
       "\\mathbf{x_{2}} \\\\\n",
       "\\mathbf{x_{3}} \\\\\n",
       "\\end{vmatrix}\n",
       "= \n",
       "\\begin{vmatrix}\n",
       "\\mathbf{b_{1}}  \\\\\n",
       "\\mathbf{b_{2}} \\\\\n",
       "\\mathbf{b_{3}} \\\\\n",
       "\\end{vmatrix}\n",
       "\n",
       "\\end{equation*}"
      ],
      "text/plain": [
       "<IPython.core.display.Latex object>"
      ]
     },
     "metadata": {},
     "output_type": "display_data"
    }
   ],
   "source": [
    "%%latex\n",
    "\\begin{equation*}\n",
    "\\begin{vmatrix}\n",
    "\\mathbf{i_{1}} & \\mathbf{j_{1}} & \\mathbf{k_{1}} \\\\\n",
    "\\mathbf{i_{2}} & \\mathbf{j_{2}} & \\mathbf{k_{2}} \\\\\n",
    "\\mathbf{i_{3}} & \\mathbf{j_{3}} & \\mathbf{k_{3}} \\\\\n",
    "\\end{vmatrix} * \n",
    "\\begin{vmatrix}\n",
    "\\mathbf{x_{1}}  \\\\\n",
    "\\mathbf{x_{2}} \\\\\n",
    "\\mathbf{x_{3}} \\\\\n",
    "\\end{vmatrix}\n",
    "= \n",
    "\\begin{vmatrix}\n",
    "\\mathbf{b_{1}}  \\\\\n",
    "\\mathbf{b_{2}} \\\\\n",
    "\\mathbf{b_{3}} \\\\\n",
    "\\end{vmatrix}\n",
    "\n",
    "\\end{equation*}"
   ]
  },
  {
   "cell_type": "code",
   "execution_count": 70,
   "metadata": {
    "collapsed": false
   },
   "outputs": [
    {
     "data": {
      "text/plain": [
       "array([[  0.1,  10. ,  10. ],\n",
       "       [  0. ,   9. ,   0. ],\n",
       "       [  0. ,   1. ,   9. ]])"
      ]
     },
     "execution_count": 70,
     "metadata": {},
     "output_type": "execute_result"
    }
   ],
   "source": [
    "A = np.array([[0.1, 10, 10],[0, 9, 0],[0, 1, 9]])\n",
    "A"
   ]
  },
  {
   "cell_type": "code",
   "execution_count": 71,
   "metadata": {
    "collapsed": false
   },
   "outputs": [
    {
     "data": {
      "text/plain": [
       "array([10,  5,  5])"
      ]
     },
     "execution_count": 71,
     "metadata": {},
     "output_type": "execute_result"
    }
   ],
   "source": [
    "b = np.array([10, 5, 5])\n",
    "b"
   ]
  },
  {
   "cell_type": "code",
   "execution_count": 73,
   "metadata": {
    "collapsed": false
   },
   "outputs": [
    {
     "data": {
      "text/plain": [
       "array([-4.9382716 ,  0.55555556,  0.49382716])"
      ]
     },
     "execution_count": 73,
     "metadata": {},
     "output_type": "execute_result"
    }
   ],
   "source": [
    "x = np.linalg.solve(A,b)\n",
    "x"
   ]
  },
  {
   "cell_type": "code",
   "execution_count": 78,
   "metadata": {
    "collapsed": false
   },
   "outputs": [
    {
     "data": {
      "text/plain": [
       "array([ True,  True,  True], dtype=bool)"
      ]
     },
     "execution_count": 78,
     "metadata": {},
     "output_type": "execute_result"
    }
   ],
   "source": [
    "checkSolution = np.dot(A,x)\n",
    "checkSolution == b"
   ]
  },
  {
   "cell_type": "code",
   "execution_count": null,
   "metadata": {
    "collapsed": true
   },
   "outputs": [],
   "source": []
  }
 ],
 "metadata": {
  "kernelspec": {
   "display_name": "Python 3",
   "language": "python",
   "name": "python3"
  },
  "language_info": {
   "codemirror_mode": {
    "name": "ipython",
    "version": 3
   },
   "file_extension": ".py",
   "mimetype": "text/x-python",
   "name": "python",
   "nbconvert_exporter": "python",
   "pygments_lexer": "ipython3",
   "version": "3.5.2"
  }
 },
 "nbformat": 4,
 "nbformat_minor": 2
}
